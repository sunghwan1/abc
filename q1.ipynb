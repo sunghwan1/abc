{
 "cells": [
  {
   "cell_type": "code",
   "execution_count": 35,
   "metadata": {},
   "outputs": [
    {
     "name": "stdout",
     "output_type": "stream",
     "text": [
      "['3', '27', '9']\n",
      "3 * 27 = 9\n"
     ]
    }
   ],
   "source": [
    "in_str =\"       3      27      9          \"\n",
    "a=in_str.split()\n",
    "print(a)\n",
    "first = a[0]\n",
    "second= a[1]\n",
    "result= a[2]\n",
    "print(first+\" * \"+second+\" = \"+result)"
   ]
  }
 ],
 "metadata": {
  "kernelspec": {
   "display_name": "Python 3",
   "language": "python",
   "name": "python3"
  }
 },
 "nbformat": 4,
 "nbformat_minor": 2
}
