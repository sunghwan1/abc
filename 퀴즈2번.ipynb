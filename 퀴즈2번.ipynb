{
 "cells": [
  {
   "cell_type": "code",
   "execution_count": null,
   "metadata": {},
   "outputs": [
    {
     "name": "stdout",
     "output_type": "stream",
     "text": [
      "아스키 코드 변환 \n",
      "코드입력:, 종료 : 5\n",
      "입력 : a\n",
      "a 의 아스키 코드 값은 :  97\n",
      "입력 : s\n",
      "s 의 아스키 코드 값은 :  115\n",
      "입력 : d\n",
      "d 의 아스키 코드 값은 :  100\n",
      "입력 : e\n",
      "e 의 아스키 코드 값은 :  101\n",
      "입력 : w\n",
      "w 의 아스키 코드 값은 :  119\n",
      "입력 : q\n",
      "q 의 아스키 코드 값은 :  113\n",
      "입력 : w\n",
      "w 의 아스키 코드 값은 :  119\n",
      "입력 : d\n",
      "d 의 아스키 코드 값은 :  100\n",
      "입력 : s\n",
      "s 의 아스키 코드 값은 :  115\n",
      "입력 : a\n",
      "a 의 아스키 코드 값은 :  97\n"
     ]
    }
   ],
   "source": [
    "ascii = \"abcdefghijklmnopqrstuvwxyz\"\n",
    "print(\"아스키 코드 변환 \")\n",
    "print(\"코드입력: 종료 : 5\")\n",
    "exit = 5\n",
    "while exit == 5:                #while문으로 반복수행\n",
    "    eng = input(\"입력 : \")\n",
    "    if eng == '5':              \n",
    "        print(\"프로그램 종료\")\n",
    "        exit=5\n",
    "    else:                       #입력받은값이 5가 아니면\n",
    "        if eng in ascii:        \n",
    "            print(eng,\"의 아스키 코드 값은 : \",ord(eng))\n",
    "        else:                   #값을 비정상적으로 입력했을시\n",
    "            print(\"값을 다시 입력 해주세요\")"
   ]
  }
 ],
 "metadata": {
  "kernelspec": {
   "display_name": "Python 3",
   "language": "python",
   "name": "python3"
  },
  "language_info": {
   "codemirror_mode": {
    "name": "ipython",
    "version": 3
   },
   "file_extension": ".py",
   "mimetype": "text/x-python",
   "name": "python",
   "nbconvert_exporter": "python",
   "pygments_lexer": "ipython3",
   "version": "3.6.4"
  }
 },
 "nbformat": 4,
 "nbformat_minor": 2
}
