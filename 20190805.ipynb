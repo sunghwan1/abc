{
 "cells": [
  {
   "cell_type": "markdown",
   "metadata": {},
   "source": [
    "딕셔너리 만들기 함수:dict()\n",
    "리스트를 딕셔너리로 변환\n",
    "문자열을 딕셔너리로 변환\n",
    "\n",
    "\n"
   ]
  },
  {
   "cell_type": "code",
   "execution_count": 28,
   "metadata": {},
   "outputs": [],
   "source": [
    "from collections import OrderedDict"
   ]
  },
  {
   "cell_type": "code",
   "execution_count": 6,
   "metadata": {},
   "outputs": [
    {
     "data": {
      "text/plain": [
       "{'a': 3, 'b': 7, 'c': 1}"
      ]
     },
     "execution_count": 6,
     "metadata": {},
     "output_type": "execute_result"
    }
   ],
   "source": [
    "\n",
    "d={}\n",
    "d['a']=3\n",
    "d['b']=7\n",
    "d['c']=1\n",
    "d"
   ]
  },
  {
   "cell_type": "code",
   "execution_count": 9,
   "metadata": {},
   "outputs": [
    {
     "name": "stdout",
     "output_type": "stream",
     "text": [
      "a : 3\n",
      "b : 7\n",
      "c : 1\n"
     ]
    }
   ],
   "source": [
    "for k,v in d.items():\n",
    "    print(k,\":\",v)"
   ]
  },
  {
   "cell_type": "code",
   "execution_count": 15,
   "metadata": {},
   "outputs": [
    {
     "name": "stdout",
     "output_type": "stream",
     "text": [
      "a : 3\n",
      "b : 7\n",
      "c : 1\n"
     ]
    }
   ],
   "source": [
    "dk=OrderedDict(sorted(d.items()))\n",
    "for k,v in dk.items():\n",
    " print(k,\":\",v)\n",
    "#키 값으로 출력"
   ]
  },
  {
   "cell_type": "code",
   "execution_count": 38,
   "metadata": {},
   "outputs": [
    {
     "name": "stdout",
     "output_type": "stream",
     "text": [
      "['Orange', 'apple', 'kiwi']\n"
     ]
    }
   ],
   "source": [
    "#split - , 로 분리(결과-리스트)\n",
    "a=\"Orange,apple,kiwi\"\n",
    "b=a.split(',')\n",
    "print(b)"
   ]
  },
  {
   "cell_type": "code",
   "execution_count": 42,
   "metadata": {},
   "outputs": [
    {
     "name": "stdout",
     "output_type": "stream",
     "text": [
      "['a', 'b', 'c', 'd', 'e']\n"
     ]
    }
   ],
   "source": [
    "#split - space 로 분리\n",
    "cstr= 'a b c d e'\n",
    "newlist = cstr.split(' ')\n",
    "print(newlist)"
   ]
  },
  {
   "cell_type": "code",
   "execution_count": 44,
   "metadata": {
    "scrolled": true
   },
   "outputs": [
    {
     "name": "stdout",
     "output_type": "stream",
     "text": [
      "abcde\n"
     ]
    }
   ],
   "source": [
    "clist = ['a','b','c''d','e']\n",
    "cstr = \"\".join(clist)\n",
    "print(cstr)\n",
    "#리스트를 특정 구분자를 포함해 문자열로 변환"
   ]
  },
  {
   "cell_type": "code",
   "execution_count": null,
   "metadata": {},
   "outputs": [],
   "source": [
    "clist=\"별 5개중 3개\"\n",
    "cstr= \" \".join(x for x in clist if x.isdigit())\n",
    "cstr[0]\n",
    "rating = int(cstr[2])/int(cstr[0])\n",
    "rating"
   ]
  },
  {
   "cell_type": "code",
   "execution_count": null,
   "metadata": {},
   "outputs": [],
   "source": [
    "a= input()\n",
    "#문자열을 입력하고 a에 저장\n",
    "a"
   ]
  },
  {
   "cell_type": "code",
   "execution_count": 13,
   "metadata": {},
   "outputs": [
    {
     "name": "stdout",
     "output_type": "stream",
     "text": [
      "리스트 함축(for): [1, 2, 3, 4, 5]\n",
      "리스트 함축(for,if): [1, 3, 5]\n",
      "(1, 1)\n",
      "(1, 2)\n",
      "(2, 1)\n",
      "(2, 2)\n",
      "(3, 1)\n",
      "(3, 2)\n"
     ]
    }
   ],
   "source": [
    "m_list = [number for number in range(1,6)]\n",
    "print('리스트 함축(for):' ,m_list)\n",
    "#리스트 함축\n",
    "n_list = [number for number in range(1,6)if number%2==1]\n",
    "print('리스트 함축(for,if):',n_list)\n",
    "#리스트 함축(for,if)\n",
    "\n",
    "rows = range(1,4)\n",
    "cols=range(1,3)\n",
    "cells = [(row,col)for row in rows for col in cols]\n",
    "\n",
    "for cell in cells:\n",
    "    print(cell)"
   ]
  },
  {
   "cell_type": "code",
   "execution_count": null,
   "metadata": {},
   "outputs": [],
   "source": [
    "A_list =['a', 'x', 'd', 'y', 'k', 'z'] \n",
    "B_list =[10,45,21,97,6,15]\n",
    "Z_list = dict(zip(A_list, B_list))\n",
    "lis = []\n",
    "for ke, val in Z_list.items():\n",
    "    if val%2 == 1:\n",
    "        lis += ke\n",
    "print(lis)\n",
    "Z_values_list = OrderedDict(sorted(Z_list.items(), key=lambda t : t[1]))\n",
    "print(Z_values_list)\n",
    "Z_list.pop('a')\n",
    "Z_list.pop('z')\n",
    "print(Z_list)"
   ]
  }
 ],
 "metadata": {
  "kernelspec": {
   "display_name": "Python 3",
   "language": "python",
   "name": "python3"
  },
  "language_info": {
   "codemirror_mode": {
    "name": "ipython",
    "version": 3
   },
   "file_extension": ".py",
   "mimetype": "text/x-python",
   "name": "python",
   "nbconvert_exporter": "python",
   "pygments_lexer": "ipython3",
   "version": "3.6.4"
  }
 },
 "nbformat": 4,
 "nbformat_minor": 2
}
